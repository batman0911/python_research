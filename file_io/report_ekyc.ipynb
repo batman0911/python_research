{
 "cells": [
  {
   "cell_type": "code",
   "execution_count": 6,
   "outputs": [],
   "source": [
    "import pandas as pd"
   ],
   "metadata": {
    "collapsed": false,
    "pycharm": {
     "name": "#%%\n"
    }
   }
  },
  {
   "cell_type": "code",
   "execution_count": 7,
   "outputs": [
    {
     "data": {
      "text/plain": "array(['1e38204d1af42e33', 'fda23b853fa3bdd1', '4947756b1d64d6be',\n       '029d2958decd47ee', 'f15192b300a6a163', '1751ba1c91303128',\n       '930e22a06da22032', 'f6f363c695eac48f', '86ec2419e8bc6936',\n       '47f2abef51e52558', 'a5fd9dd98e39ee6d', 'f2c31d1a13eea4de',\n       'd94b4308f58dec7e', '09f365dfbf6a908a', '1f26104201b68ecc',\n       'f378b5c0c7597d19', 'b83c3cb0235c602a', '3533eb80c9fdd88c',\n       '61da9736ad78ba4f', '1e702bc307267f7d', '3abc3dd3b59d0f7d',\n       'ade2172fffa25674', '4daa6d45eeba7f5b', '463b61ff2088ad15',\n       '0d262294ac20ec08', '847a9c1b660a69ad', '88584396643d0071',\n       '62dc7c66b8fcf4aa', '831d1e7265b00dba', '2aedcaa2529d504b',\n       'b77d84fa0ed0f665', '840f7cbc6aa1687f', 'a09f4f441157aa77',\n       '69de66958dd48c65', '0872c10a671c97a4', '66309c39f9f93603',\n       '135376cc98c2a89a', '0010b8a7f805cc1c', '131dda7726ee9226',\n       '6cbe658de037233c', '59a224ed91b46064', '101fb5c8978ecf63',\n       '414b2231fbe94f8d', '3e0cf3216463d316', '18cb68211a70d030',\n       '2ae66ac309370613', '3457ea92f64a92a2', 'a13c3e52033309cd',\n       '0f7f5d3cc3fded52', '58d9c48e700a534d', 'a100380923097949',\n       'da2101c4a9f7b1d7', 'd99d7271bd91d0e3', 'c4546a6c07e5811f',\n       'c1991d4700799809', 'b191c3c2d45a5f15', 'b68b6013c2a61e07',\n       '1e52a6fc1d274b11', 'ca6d5c60da134cc3', '6594680c541a626f',\n       'e1f08417a948d933', '93bb2f8609799b0a', '5e49cf0b9b3a0e49',\n       'f184e8afc34c9584', '2989416fefb87e59', '3d3cab004a175ceb',\n       '8432f61c032c20d3', 'ce93bd38d20891dd', '980a7c1349e41efe',\n       'fef280843ec80eac', '9ccc791132d659ef', '33852d196e43cc2e',\n       '40edf4b3f2639150', '4821f335f15a311e', '1a495946a027059a',\n       '3cb81d684f513d4d', 'acd3fd0ffef762bc', '57390ba87ef342b8',\n       'f17b56ef6e9ce57f', '9e07aeaa49fc232a', '5317a078a28633c5',\n       '420628c0910aecdc', '7780f94246dd21a0', '9c9e129b98399d10',\n       '91682a367b572931', '342ca7932a7a3ddd', '6992d1f5458c39c7',\n       '2ab31062123f839d', '13d4baf42f80a165', '6614775e3be39d6e',\n       'eddd7b6466e77212', '1ec3ee236063f452', '088e65e879af1998',\n       '91d0009a1d903fab', 'bb16252a243a564b', '030611d9b65754e3',\n       '325175bdc7cd4090', 'ea19b32de3ff1441', '3f4352a97c12a4bb',\n       '92bf366b28aa02d5', 'f602d61defcf46f6', '7fc009644386e9fc',\n       '26b9285d4d5fc332', 'fefedc54eb89a288', '49e26f529ce57b4e',\n       '3e018c1c199c2422', '9f6e634a0afb7b8f', '40876cf2bc34fbaa',\n       'fc730237834ebd31', '694d48fcf0e7fe6b', '5cea16c111fec1bf',\n       'bd42bd1cc96602d6', 'ce3932adb4132fc1', 'ebbdf076680778a1',\n       '3fb07201df91ce17', 'b5239fd5a3fc2a78', 'cd0125b5773fb1fb',\n       '982e6162c5dad666', '8db18cac929d22a5', '404c83a31157e907',\n       'd87ffc765a01188f', '9b446dab16bbd221', '926586356c2aea3b',\n       '703c5fe8fe5ebeb3', '30623ef7e983953c', 'bcc5b70f5b872e88',\n       '6d515d6f10a8b9ca', '519fbe5fe71ed914', 'd8e8ff3f6c5787a3',\n       '39f85a4b1b08c5d2', '02c3a93b82cf18e3', '42cf3db8ac0fa2f3',\n       '9ee72df038d62cb8', '79544a1134e387ba', '0b1b22b6d7941194',\n       '0c7e2eb6f63c4e38', '1dd498ac4129aee8', 'e148b595777889f0',\n       '2cdb665c109ece93', '68acd754c2edbde3', '2941d45ad2224f42',\n       '6ae6476510842af4', 'ed394d8285272b20', '49232a26f2289286',\n       '42b4a5750eae287b', 'ae0e13811fb561d1', '67f741c05ee581c7',\n       'b991c16daa9d7c4e', 'd49d1e17f9b01af2', 'e2d4899b7a64216d',\n       'c18e3bde1e9286cd', 'd1be102bd4ca49fe', '6e720c46d3a7d391',\n       'e417ea74e124a896', 'abd48f45d123141b', '3014f97efe5e0ab7',\n       '95c706af845fd412', '65596b8e245ff225', '3e1b2b6e6e52c1ae',\n       '1b49224cef52d064', '47c7668317bab4c1', '88a2d1c4916e2bb4',\n       '58d973597bb620f8', 'cca045fdb2eaca22', 'e1b0105976488ab6',\n       '44c4666a6f8c60b8', '53991d1c31e0e24f', '332221137c3086fa',\n       '1b55756160c7d529', '13c2e8af55d33db2', '050c7426a7597295',\n       '29c544d6a62dcebe', '52c82cd0dce1b286', 'ba48842b41f390e1',\n       '50a312e67138fa2b', 'b2a7df5fdc8b1394', 'aeb84f99a57b96b1',\n       'a7953b34707593ca', 'ad9210c473de75e7', 'dd94b26ea97e2a80',\n       '361990e63f1b2c56', '31f274b70d023fbf', '7c2ae8a9ba7d6de9',\n       '76e8e6d03ab6cc80', '9c708607aa1fbe20', '93e58b42dc245134',\n       '38630255653856e9', 'eaad36fd52ed736c', '6bc5811dd37f1db5',\n       '71d321799853a318', 'a6a5195b4b40b20b', 'bd46d37b90a4788d',\n       '57418140cf0378c3', 'c0262763310664e6', 'f03dd9913ec51082',\n       'f6df720962006bc7', 'c52b554bf9e55f86', 'e8a366d8058a99a5',\n       'c330fbdd764ac991', '54caf428d36b4501', '6131b6ad54fb97a9',\n       '5d83f5907ee6a612', '7dc83ad159b4e0dd', '1e24c14109124bf9',\n       '578806615c0643c6', 'c1f7a705c852bd77', 'fb8b20dbb12d73a5',\n       'd90ca72aa8349cec', '43325435636a1292', 'f848b82cabc52fb1',\n       'be6fd19ad274ee12', '6f6925023b7c6f33', 'ed2ee5e83cd44c93',\n       '14f2f399812167b7', '0569c466fe3406a5', '283af11ea128febd',\n       '346f4a102a2d81fb', '826bc0a881ea5041', '40997d557377cdaa',\n       '71c9eeaddc6e3d2d', '6db1d855c816e7d8', 'd4b8420e16df3093',\n       '6cc691c4a6f7e591', 'c4bf9f0d227a2c27', 'd44010e8851b32aa',\n       'f8672ee06a0deab2', 'ae8ce15f769cb47c', '4465fdc4ab1f6828',\n       '6ed4af738999eceb', 'cb1133369c246e57', '1d0a8588a6680d36',\n       'a035283ade873a73', 'edaad31098ce50a1', '163da2319475f2d8',\n       'c1cb6f263b5b66dc', 'd3829235d4ac5439', 'c684e687d50f42ea',\n       '6c760efa8050d44a', '2968a6bf4d7064df', '888916df1f56822a',\n       '6ca0d7d27a825d93', '067ace0b58d9de52', '98c458500a526f69',\n       'ef6841ca2eb0ac70', 'ca07bb66ff68fc75', 'e5c69eec7345c331',\n       '01b587b7ad23cf19', 'bcd2909138d29908', 'a7cdf61331bd0954',\n       '03901169b959e3d3', '89f3b7bebb051cce', '548e18943b5c65f8',\n       '08b4bacce680110b', '05a3aab5a98b5e94', '55d9d38024f15dd7',\n       '17afe2410201c2d1', 'd5b7f31efcfebb15', '2697a343e2902624',\n       'ae8c8c33b9f5f060', '89b8b5992cdc8526', '9ca6224c8b771565',\n       '76c0082be77d4ad2', '00e7b3c6abc3f2a5', '4f492506201e5f58',\n       'f1555ba740ed1970', '7e3a1e15ee440eaf', '53f83825d10e2263',\n       'e7af33b008401628', '879a64a4bd850008', '8433b0b1c750abfa',\n       '76423df4cd623a08', 'decd2f38c1e28b4e', 'fef2144f082297d3',\n       '28aeab4cbc8d7bff', '9b9a2dbbc2503fc4', '3c6ad2c5118e6f22',\n       '179ecd5ee794e7d6', '5dce83b762035ab6', '39be3b04ff0797b5',\n       '07c6232005eb92a0', 'eae5e299b207288d', '1112fc969a7577c7',\n       '680a61867e3c6b9c', '5fcb52d2f468c509', '63572256092f1d15',\n       'e2c4a2f24694d622', 'd98361f8ee5c16ec', '3ba5831f98d767b1',\n       'dea2472c9743fd1a', '7cee5820d4d0cb90', 'f273f25e4a445149',\n       '42760d46d53eb5a5', '659e75b22a8dfb21', '6569290d52c48854',\n       'a5672961591d8901', 'c675f9bc3ff1bb9f', 'e3b33115982a77f4',\n       '2f0d612c365e417c', '62416d36163949ab', '751e5449a1c04868',\n       '6ef46143bc186360', '4381888b07512203', '85c5d9ece7798892',\n       'b2d5550005ee3cd0', '7bf67cfea8cffe85', '5865e2ed97f00ac6',\n       '287e2c7975eb2706', 'bbb2887847d73f1e', 'c4f754892374ebfc',\n       '6efa4adc6a0f3ca8', '937ca858f8ac66d7', '6a20269d22a893c9',\n       'f9059e9521c0f583', 'c790b85fddd03c10', '671c7d0a6f2f0784',\n       '5355a201c220354e', 'f633dc784fc972fe', 'dc55284472b0270f',\n       '0dfd7c5d21153b0a', '6efc2e6c640949e4', '8870ec40587cea66',\n       '38bfa22413fee161', 'ffc17bbe4471044a', '310559efd51b84bd',\n       '4c37c829999c50d9', '821149d5df29e91f', '3008a1f1b435994b',\n       'b2e53493b9edd57d', 'fda30a17f49fa738', 'b5c0828dea2dc0ff',\n       'ae52a8513e221f72', 'b785c4face13bf88', '66647db341945ba6',\n       '05490b080a332373', '8403bd5ad8554dac', 'b2f6ca610e434e5d',\n       '60911816c8d05d7f', 'ff13cfd50d24387e', 'fc57cbc1b73eb298',\n       'aa3ef07ac261fd77', 'a9554e360424ae4d', '6bb09c7bebd22535',\n       '06367e8c2efe4c60'], dtype=object)"
     },
     "execution_count": 7,
     "metadata": {},
     "output_type": "execute_result"
    }
   ],
   "source": [
    "df = pd.read_csv(\"/home/linhnm/Downloads/linhnm_01.csv\")\n",
    "df['traceId'].unique()"
   ],
   "metadata": {
    "collapsed": false,
    "pycharm": {
     "name": "#%%\n"
    }
   }
  }
 ],
 "metadata": {
  "kernelspec": {
   "display_name": "Python 3",
   "language": "python",
   "name": "python3"
  },
  "language_info": {
   "codemirror_mode": {
    "name": "ipython",
    "version": 2
   },
   "file_extension": ".py",
   "mimetype": "text/x-python",
   "name": "python",
   "nbconvert_exporter": "python",
   "pygments_lexer": "ipython2",
   "version": "2.7.6"
  }
 },
 "nbformat": 4,
 "nbformat_minor": 0
}